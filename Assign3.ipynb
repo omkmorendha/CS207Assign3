{
  "nbformat": 4,
  "nbformat_minor": 0,
  "metadata": {
    "colab": {
      "name": "Assign3.ipynb",
      "provenance": [],
      "authorship_tag": "ABX9TyPO7JAYoelu+RehIhAjODOV",
      "include_colab_link": true
    },
    "kernelspec": {
      "name": "python3",
      "display_name": "Python 3"
    },
    "language_info": {
      "name": "python"
    }
  },
  "cells": [
    {
      "cell_type": "markdown",
      "metadata": {
        "id": "view-in-github",
        "colab_type": "text"
      },
      "source": [
        "<a href=\"https://colab.research.google.com/github/omkmorendha/CS207Assign3/blob/main/Assign3.ipynb\" target=\"_parent\"><img src=\"https://colab.research.google.com/assets/colab-badge.svg\" alt=\"Open In Colab\"/></a>"
      ]
    },
    {
      "cell_type": "code",
      "metadata": {
        "colab": {
          "base_uri": "https://localhost:8080/",
          "height": 0
        },
        "id": "F0300MgBl_M1",
        "outputId": "96b8bbb6-b279-411c-f6f9-c97b3398626e"
      },
      "source": [
        "class student:\n",
        "  def __init__(self, nme, reg, age, gdr, brn, sem):\n",
        "    self.nme = nme\n",
        "    self.reg = reg\n",
        "    self.age = age\n",
        "    self.gdr = gdr\n",
        "    self.brn = brn\n",
        "    self.sem = sem\n",
        "\n",
        "  def prints(self):\n",
        "    print(\"Name:\", self.nme)\n",
        "    print(\"Registration Number:\", self.reg)\n",
        "    print(\"Age:\", self.age)\n",
        "    print(\"Gender:\", self.gdr)\n",
        "    print(\"Branch:\", self.brn)\n",
        "    print(\"Semester:\", self.sem)\n",
        "\n",
        "class studentresultinfo(student):\n",
        "  def __init__(self, nme, reg, age, gdr, brn, sem, tot, perc, grade):\n",
        "    student.__init__(self, nme, reg, age, gdr, brn, sem)\n",
        "    self.tot = tot\n",
        "    self.perc = perc\n",
        "    self.grade = grade\n",
        "\n",
        "  def printres(self):\n",
        "    print(\"Total Marks:\", self.tot)\n",
        "    print(\"Percentage:\", self.perc)\n",
        "    print(\"Grade:\", self.grade)\n",
        "\n",
        "std1 = studentresultinfo('Om', '20bcs095', 19, 'Male', 'CSE', 3, 250, 87, 'A')\n",
        "std1.prints()\n",
        "std1.printres()"
      ],
      "execution_count": 7,
      "outputs": [
        {
          "output_type": "stream",
          "name": "stdout",
          "text": [
            "Name: Om\n",
            "Registration Number: 20bcs095\n",
            "Age: 19\n",
            "Gender: Male\n",
            "Branch: CSE\n",
            "Semester: 3\n",
            "Total Marks: 250\n",
            "Percentage: 87\n",
            "Grade: A\n"
          ]
        }
      ]
    },
    {
      "cell_type": "code",
      "metadata": {
        "colab": {
          "base_uri": "https://localhost:8080/",
          "height": 0
        },
        "id": "cgvj0sdJsOoF",
        "outputId": "cfc7c708-f170-4049-c5d3-c10bc37f689f"
      },
      "source": [
        "class fl:\n",
        "  def __init__(self, crt, des, size):\n",
        "    self.crt = crt\n",
        "    self.des = des\n",
        "    self.size = size\n",
        "\n",
        "  def disp(self):\n",
        "    print(\"Creator:\", self.crt)\n",
        "    print(\"Description:\", self.des)\n",
        "    print(\"Size:\", self.size)\n",
        "\n",
        "  def chksize(self):\n",
        "    if self.size >= 1000:\n",
        "      print(\"File is very Large\")\n",
        "    else:\n",
        "      print(\"File is not Large\")\n",
        "  \n",
        "class picture(fl):\n",
        "  def __init__(self, crt, des, size, dim1, dim2):\n",
        "    fl.__init__(self, crt, des, size)\n",
        "    self.dim1 = dim1\n",
        "    self.dim2 = dim2\n",
        "\n",
        "  def disp(self):\n",
        "    fl.disp(self)\n",
        "    print(\"Dimensions:\", self.dim1, 'X', self.dim2)\n",
        "\n",
        "  def chkdims(self):\n",
        "    if (self.dim1 > 1920  or self.dim2 > 1080):\n",
        "      print(\"Dimensions of the picture are very large\")\n",
        "    else:\n",
        "      print(\"Dimensions of the picture are not very large\")\n",
        "\n",
        "f1 = fl(\"Om\", \"PDF of Coreman\", 980)\n",
        "f2 = picture(\"Om\", \"Picture of Sun\", 2040 ,1280, 720)\n",
        "\n",
        "f2.disp()\n",
        "f2.chkdims()\n",
        "f2.chksize()\n"
      ],
      "execution_count": 21,
      "outputs": [
        {
          "output_type": "stream",
          "name": "stdout",
          "text": [
            "Creator: Om\n",
            "Description: Picture of Sun\n",
            "Size: 2040\n",
            "Dimensions: 1280 X 720\n",
            "Dimensions of the picture are not very large\n",
            "File is very Large\n"
          ]
        }
      ]
    },
    {
      "cell_type": "code",
      "metadata": {
        "colab": {
          "base_uri": "https://localhost:8080/",
          "height": 0
        },
        "id": "cdL2lA9w0MqM",
        "outputId": "a2255f01-4b4e-46bf-94fe-1a7ab8e49480"
      },
      "source": [
        "class vehicle:\n",
        "  \n",
        "  def __init__(self, nme, mil, cap):\n",
        "    self.nme = nme\n",
        "    self.mil = mil\n",
        "    self.cap = cap\n",
        "    \n",
        "  def farecalc(self):\n",
        "    self.fare = self.cap * 100\n",
        "\n",
        "class bus(vehicle):\n",
        "  def __init__(self, nme, mil, cap):\n",
        "    vehicle.__init__(self, nme, mil, cap)\n",
        "  \n",
        "  def farecalc(self):\n",
        "    vehicle.farecalc(self)\n",
        "    self.fare *= 1.1\n",
        "\n",
        "  def printb(self):\n",
        "    print(\"Name:\", self.nme)\n",
        "    print(\"Mileage:\", self.mil)\n",
        "    print(\"Capacity:\", self.cap)\n",
        "    print(\"Fare:\", self.fare)\n",
        "\n",
        "\n",
        "b1 = bus('Big Bus', 70, 50)\n",
        "b1.farecalc()\n",
        "b1.printb()"
      ],
      "execution_count": 31,
      "outputs": [
        {
          "output_type": "stream",
          "name": "stdout",
          "text": [
            "Name: Big Bus\n",
            "Mileage: 70\n",
            "Capacity: 50\n",
            "Fare: 5500.0\n"
          ]
        }
      ]
    }
  ]
}